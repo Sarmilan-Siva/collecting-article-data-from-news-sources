{
 "cells": [
  {
   "cell_type": "markdown",
   "metadata": {},
   "source": [
    "# Collecting Article Data from New York Time's Archive"
   ]
  },
  {
   "cell_type": "markdown",
   "metadata": {},
   "source": [
    "Over 150 years of NYT articles can be collected from the Archive API. This notebook extracts some useful information for some analysis for a period of time."
   ]
  },
  {
   "cell_type": "markdown",
   "metadata": {},
   "source": [
    "#### Importing necessary libraries"
   ]
  },
  {
   "cell_type": "code",
   "execution_count": 1,
   "metadata": {},
   "outputs": [],
   "source": [
    "import pandas as pd\n",
    "import json\n",
    "import configparser\n",
    "import requests\n",
    "import time"
   ]
  },
  {
   "cell_type": "markdown",
   "metadata": {},
   "source": [
    "#### Reading the API key from Configparser"
   ]
  },
  {
   "cell_type": "code",
   "execution_count": 2,
   "metadata": {},
   "outputs": [],
   "source": [
    "configs = configparser.ConfigParser()\n",
    "configs.read('News_API.ini')\n",
    "API_KEY = configs['news_API']['nytimes_archive']"
   ]
  },
  {
   "cell_type": "markdown",
   "metadata": {},
   "source": [
    "#### Simple Data Extractor\n",
    "\n",
    "The NYT allows to extract one month of archive data in one call and the data is in JSON file format. A simple function is created to extract one JSON file contains one month of articles."
   ]
  },
  {
   "cell_type": "code",
   "execution_count": 3,
   "metadata": {},
   "outputs": [],
   "source": [
    "def send_request(yr, month, api_key):\n",
    "  '''Sends a request to the NYT Archive API for a given year and month, and receive the response'''\n",
    "    \n",
    "  base_url = 'https://api.nytimes.com/svc/archive/v1'\n",
    "  full_url = base_url + '/' + yr + '/' + month + '.json?api-key=' + api_key\n",
    "    \n",
    "  try:\n",
    "    response = requests.get(full_url).json()\n",
    "  except Exception:\n",
    "    return None\n",
    "  return response"
   ]
  },
  {
   "cell_type": "markdown",
   "metadata": {},
   "source": [
    "Sample output of `send_request()` function."
   ]
  },
  {
   "cell_type": "code",
   "execution_count": 4,
   "metadata": {},
   "outputs": [
    {
     "data": {
      "text/plain": [
       "4260"
      ]
     },
     "execution_count": 4,
     "metadata": {},
     "output_type": "execute_result"
    }
   ],
   "source": [
    "nyt_articles = send_request(str(2021), str(6), API_KEY)\n",
    "len(nyt_articles['response']['docs'])"
   ]
  },
  {
   "cell_type": "markdown",
   "metadata": {},
   "source": [
    "Information about 4260 articles comprised in the June 2021 archive. First dictionary item is printed to see what data is available for further extraction and analysis."
   ]
  },
  {
   "cell_type": "code",
   "execution_count": 5,
   "metadata": {},
   "outputs": [
    {
     "data": {
      "text/plain": [
       "{'abstract': 'In Israel’s newspapers — as fractured as its electorate — the opinions on the possible fall of Prime Minister Benjamin Netanyahu were as emphatic as they were varied.',\n",
       " 'web_url': 'https://www.nytimes.com/2021/05/31/world/middleeast/israeli-media-netanyahu-bennett.html',\n",
       " 'snippet': 'In Israel’s newspapers — as fractured as its electorate — the opinions on the possible fall of Prime Minister Benjamin Netanyahu were as emphatic as they were varied.',\n",
       " 'lead_paragraph': 'After more than 12 consecutive years at the helm of Israel’s government, Prime Minister Benjamin Netanyahu’s hold on power may be coming to a close.',\n",
       " 'source': 'The New York Times',\n",
       " 'multimedia': [{'rank': 0,\n",
       "   'subtype': 'xlarge',\n",
       "   'caption': None,\n",
       "   'credit': None,\n",
       "   'type': 'image',\n",
       "   'url': 'images/2021/05/31/world/31israel-reaction/merlin_188519604_9d0ecaa9-cca2-4523-ae7c-63df787502c5-articleLarge.jpg',\n",
       "   'height': 400,\n",
       "   'width': 600,\n",
       "   'subType': 'xlarge',\n",
       "   'crop_name': 'articleLarge',\n",
       "   'legacy': {'xlarge': 'images/2021/05/31/world/31israel-reaction/merlin_188519604_9d0ecaa9-cca2-4523-ae7c-63df787502c5-articleLarge.jpg',\n",
       "    'xlargewidth': 600,\n",
       "    'xlargeheight': 400}},\n",
       "  {'rank': 0,\n",
       "   'subtype': 'jumbo',\n",
       "   'caption': None,\n",
       "   'credit': None,\n",
       "   'type': 'image',\n",
       "   'url': 'images/2021/05/31/world/31israel-reaction/merlin_188519604_9d0ecaa9-cca2-4523-ae7c-63df787502c5-jumbo.jpg',\n",
       "   'height': 683,\n",
       "   'width': 1024,\n",
       "   'subType': 'jumbo',\n",
       "   'crop_name': 'jumbo',\n",
       "   'legacy': {}},\n",
       "  {'rank': 0,\n",
       "   'subtype': 'superJumbo',\n",
       "   'caption': None,\n",
       "   'credit': None,\n",
       "   'type': 'image',\n",
       "   'url': 'images/2021/05/31/world/31israel-reaction/merlin_188519604_9d0ecaa9-cca2-4523-ae7c-63df787502c5-superJumbo.jpg',\n",
       "   'height': 1366,\n",
       "   'width': 2048,\n",
       "   'subType': 'superJumbo',\n",
       "   'crop_name': 'superJumbo',\n",
       "   'legacy': {}},\n",
       "  {'rank': 0,\n",
       "   'subtype': 'thumbnail',\n",
       "   'caption': None,\n",
       "   'credit': None,\n",
       "   'type': 'image',\n",
       "   'url': 'images/2021/05/31/world/31israel-reaction/31israel-reaction-thumbStandard.jpg',\n",
       "   'height': 75,\n",
       "   'width': 75,\n",
       "   'subType': 'thumbnail',\n",
       "   'crop_name': 'thumbStandard',\n",
       "   'legacy': {'thumbnail': 'images/2021/05/31/world/31israel-reaction/31israel-reaction-thumbStandard.jpg',\n",
       "    'thumbnailwidth': 75,\n",
       "    'thumbnailheight': 75}},\n",
       "  {'rank': 0,\n",
       "   'subtype': 'thumbLarge',\n",
       "   'caption': None,\n",
       "   'credit': None,\n",
       "   'type': 'image',\n",
       "   'url': 'images/2021/05/31/world/31israel-reaction/31israel-reaction-thumbLarge.jpg',\n",
       "   'height': 150,\n",
       "   'width': 150,\n",
       "   'subType': 'thumbLarge',\n",
       "   'crop_name': 'thumbLarge',\n",
       "   'legacy': {}}],\n",
       " 'headline': {'main': 'Glum to Gleeful, Israeli Media React to Possible End of Netanyahu Era',\n",
       "  'kicker': None,\n",
       "  'content_kicker': None,\n",
       "  'print_headline': 'Glum to Gleeful, Israeli Media React',\n",
       "  'name': None,\n",
       "  'seo': None,\n",
       "  'sub': None},\n",
       " 'keywords': [{'name': 'glocations',\n",
       "   'value': 'Israel',\n",
       "   'rank': 1,\n",
       "   'major': 'N'},\n",
       "  {'name': 'persons', 'value': 'Bennett, Naftali', 'rank': 2, 'major': 'N'},\n",
       "  {'name': 'persons', 'value': 'Netanyahu, Benjamin', 'rank': 3, 'major': 'N'},\n",
       "  {'name': 'organizations', 'value': 'Haaretz', 'rank': 4, 'major': 'N'},\n",
       "  {'name': 'organizations', 'value': 'Israel Hayom', 'rank': 5, 'major': 'N'},\n",
       "  {'name': 'organizations', 'value': 'Maariv', 'rank': 6, 'major': 'N'},\n",
       "  {'name': 'organizations',\n",
       "   'value': 'Yediot Aharonot',\n",
       "   'rank': 7,\n",
       "   'major': 'N'},\n",
       "  {'name': 'organizations', 'value': 'Makor Rishon', 'rank': 8, 'major': 'N'}],\n",
       " 'pub_date': '2021-06-01T00:06:19+0000',\n",
       " 'document_type': 'article',\n",
       " 'news_desk': 'Foreign',\n",
       " 'section_name': 'World',\n",
       " 'subsection_name': 'Middle East',\n",
       " 'byline': {'original': 'By Adam Rasgon',\n",
       "  'person': [{'firstname': 'Adam',\n",
       "    'middlename': None,\n",
       "    'lastname': 'Rasgon',\n",
       "    'qualifier': None,\n",
       "    'title': None,\n",
       "    'role': 'reported',\n",
       "    'organization': '',\n",
       "    'rank': 1}],\n",
       "  'organization': None},\n",
       " 'type_of_material': 'News',\n",
       " '_id': 'nyt://article/987bb5b3-1c18-5bdc-80de-fbf86da686b9',\n",
       " 'word_count': 984,\n",
       " 'uri': 'nyt://article/987bb5b3-1c18-5bdc-80de-fbf86da686b9'}"
      ]
     },
     "execution_count": 5,
     "metadata": {},
     "output_type": "execute_result"
    }
   ],
   "source": [
    "nyt_articles['response']['docs'][0]"
   ]
  },
  {
   "cell_type": "code",
   "execution_count": null,
   "metadata": {},
   "outputs": [],
   "source": []
  },
  {
   "cell_type": "markdown",
   "metadata": {},
   "source": [
    "### Extracting Useful Information From the Data Dictionary\n",
    "\n",
    "Extracting following information:\n",
    "pub_date, document_type, news_desk, section_name, abstract, word_count, web_url"
   ]
  },
  {
   "cell_type": "code",
   "execution_count": 7,
   "metadata": {},
   "outputs": [
    {
     "ename": "TypeError",
     "evalue": "list indices must be integers or slices, not str",
     "output_type": "error",
     "traceback": [
      "\u001b[1;31m---------------------------------------------------------------------------\u001b[0m",
      "\u001b[1;31mTypeError\u001b[0m                                 Traceback (most recent call last)",
      "\u001b[1;32m<ipython-input-7-f5e1079dbbda>\u001b[0m in \u001b[0;36m<module>\u001b[1;34m\u001b[0m\n\u001b[0;32m     15\u001b[0m   \u001b[0mdata\u001b[0m\u001b[1;33m[\u001b[0m\u001b[1;34m'section_name'\u001b[0m\u001b[1;33m]\u001b[0m\u001b[1;33m.\u001b[0m\u001b[0mappend\u001b[0m\u001b[1;33m(\u001b[0m\u001b[0marticle\u001b[0m\u001b[1;33m[\u001b[0m\u001b[1;34m'section_name'\u001b[0m\u001b[1;33m]\u001b[0m\u001b[1;33m)\u001b[0m\u001b[1;33m\u001b[0m\u001b[1;33m\u001b[0m\u001b[0m\n\u001b[0;32m     16\u001b[0m   \u001b[0mdata\u001b[0m\u001b[1;33m[\u001b[0m\u001b[1;34m'pub_date'\u001b[0m\u001b[1;33m]\u001b[0m\u001b[1;33m.\u001b[0m\u001b[0mappend\u001b[0m\u001b[1;33m(\u001b[0m\u001b[0mpd\u001b[0m\u001b[1;33m.\u001b[0m\u001b[0mto_datetime\u001b[0m\u001b[1;33m(\u001b[0m\u001b[0marticle\u001b[0m\u001b[1;33m[\u001b[0m\u001b[1;34m'pub_date'\u001b[0m\u001b[1;33m]\u001b[0m\u001b[1;33m,\u001b[0m \u001b[0mformat\u001b[0m\u001b[1;33m=\u001b[0m\u001b[1;34m'%Y%m%d %H:%M:%S.%f'\u001b[0m\u001b[1;33m)\u001b[0m\u001b[1;33m.\u001b[0m\u001b[0mdate\u001b[0m\u001b[1;33m(\u001b[0m\u001b[1;33m)\u001b[0m\u001b[1;33m)\u001b[0m\u001b[1;33m\u001b[0m\u001b[1;33m\u001b[0m\u001b[0m\n\u001b[1;32m---> 17\u001b[1;33m   \u001b[0mdata\u001b[0m\u001b[1;33m[\u001b[0m\u001b[1;34m'web_url'\u001b[0m\u001b[1;33m]\u001b[0m\u001b[1;33m.\u001b[0m\u001b[0mappend\u001b[0m\u001b[1;33m(\u001b[0m\u001b[0marticles\u001b[0m\u001b[1;33m[\u001b[0m\u001b[1;34m'web_url'\u001b[0m\u001b[1;33m]\u001b[0m\u001b[1;33m)\u001b[0m\u001b[1;33m\u001b[0m\u001b[1;33m\u001b[0m\u001b[0m\n\u001b[0m\u001b[0;32m     18\u001b[0m   \u001b[0mdata\u001b[0m\u001b[1;33m[\u001b[0m\u001b[1;34m'word_count'\u001b[0m\u001b[1;33m]\u001b[0m\u001b[1;33m.\u001b[0m\u001b[0mappend\u001b[0m\u001b[1;33m(\u001b[0m\u001b[0marticle\u001b[0m\u001b[1;33m[\u001b[0m\u001b[1;34m'word_count'\u001b[0m\u001b[1;33m]\u001b[0m\u001b[1;33m)\u001b[0m\u001b[1;33m\u001b[0m\u001b[1;33m\u001b[0m\u001b[0m\n",
      "\u001b[1;31mTypeError\u001b[0m: list indices must be integers or slices, not str"
     ]
    }
   ],
   "source": [
    "data = {'pub_date': [],\n",
    "        'document_type':[],\n",
    "        'news_desk':[],\n",
    "        'section_name': [],\n",
    "        'abstract': [],\n",
    "        'word_count':[],\n",
    "        'web_url': []}\n",
    "\n",
    "articles = nyt_articles['response']['docs']\n",
    "\n",
    "for article in articles:\n",
    "  data['abstract'].append(article['abstract'])\n",
    "  data['document_type'].append(article['document_type'])\n",
    "  data['news_desk'].append(article['news_desk'])\n",
    "  data['section_name'].append(article['section_name'])\n",
    "  data['pub_date'].append(pd.to_datetime(article['pub_date'], format='%Y%m%d %H:%M:%S.%f').date())\n",
    "  data['web_url'].append(articles['web_url'])\n",
    "  data['word_count'].append(article['word_count'])"
   ]
  },
  {
   "cell_type": "code",
   "execution_count": 62,
   "metadata": {},
   "outputs": [],
   "source": [
    "# incase if column length error pops up\n",
    "# df = pd.DataFrame.from_dict(data, orient='index')\n",
    "# df = df.transpose()"
   ]
  },
  {
   "cell_type": "code",
   "execution_count": 63,
   "metadata": {},
   "outputs": [
    {
     "data": {
      "text/html": [
       "<div>\n",
       "<style scoped>\n",
       "    .dataframe tbody tr th:only-of-type {\n",
       "        vertical-align: middle;\n",
       "    }\n",
       "\n",
       "    .dataframe tbody tr th {\n",
       "        vertical-align: top;\n",
       "    }\n",
       "\n",
       "    .dataframe thead th {\n",
       "        text-align: right;\n",
       "    }\n",
       "</style>\n",
       "<table border=\"1\" class=\"dataframe\">\n",
       "  <thead>\n",
       "    <tr style=\"text-align: right;\">\n",
       "      <th></th>\n",
       "      <th>pub_date</th>\n",
       "      <th>document_type</th>\n",
       "      <th>news_desk</th>\n",
       "      <th>section_name</th>\n",
       "      <th>abstract</th>\n",
       "      <th>word_count</th>\n",
       "      <th>web_url</th>\n",
       "    </tr>\n",
       "  </thead>\n",
       "  <tbody>\n",
       "    <tr>\n",
       "      <th>0</th>\n",
       "      <td>2021-06-01</td>\n",
       "      <td>article</td>\n",
       "      <td>Foreign</td>\n",
       "      <td>World</td>\n",
       "      <td>In Israel’s newspapers — as fractured as its e...</td>\n",
       "      <td>984</td>\n",
       "      <td>https://www.nytimes.com/interactive/2021/05/31...</td>\n",
       "    </tr>\n",
       "    <tr>\n",
       "      <th>1</th>\n",
       "      <td>2021-06-01</td>\n",
       "      <td>article</td>\n",
       "      <td>Sports</td>\n",
       "      <td>Sports</td>\n",
       "      <td>Playing in a night session in Paris, Williams ...</td>\n",
       "      <td>722</td>\n",
       "      <td>https://www.nytimes.com/interactive/2021/05/31...</td>\n",
       "    </tr>\n",
       "    <tr>\n",
       "      <th>2</th>\n",
       "      <td>2021-06-01</td>\n",
       "      <td>article</td>\n",
       "      <td>Express</td>\n",
       "      <td>U.S.</td>\n",
       "      <td>A bill that passed the General Assembly with b...</td>\n",
       "      <td>880</td>\n",
       "      <td>https://www.nytimes.com/interactive/2021/05/31...</td>\n",
       "    </tr>\n",
       "    <tr>\n",
       "      <th>3</th>\n",
       "      <td>2021-06-01</td>\n",
       "      <td>article</td>\n",
       "      <td>Games</td>\n",
       "      <td>Crosswords &amp; Games</td>\n",
       "      <td>Finn Vigeland offers us a refreshing snack of ...</td>\n",
       "      <td>658</td>\n",
       "      <td>https://www.nytimes.com/interactive/2021/05/31...</td>\n",
       "    </tr>\n",
       "    <tr>\n",
       "      <th>4</th>\n",
       "      <td>2021-06-01</td>\n",
       "      <td>multimedia</td>\n",
       "      <td>Climate</td>\n",
       "      <td>Climate</td>\n",
       "      <td>There are few things Americans can agree on th...</td>\n",
       "      <td>0</td>\n",
       "      <td>https://www.nytimes.com/interactive/2021/05/31...</td>\n",
       "    </tr>\n",
       "  </tbody>\n",
       "</table>\n",
       "</div>"
      ],
      "text/plain": [
       "     pub_date document_type news_desk        section_name  \\\n",
       "0  2021-06-01       article   Foreign               World   \n",
       "1  2021-06-01       article    Sports              Sports   \n",
       "2  2021-06-01       article   Express                U.S.   \n",
       "3  2021-06-01       article     Games  Crosswords & Games   \n",
       "4  2021-06-01    multimedia   Climate             Climate   \n",
       "\n",
       "                                            abstract  word_count  \\\n",
       "0  In Israel’s newspapers — as fractured as its e...         984   \n",
       "1  Playing in a night session in Paris, Williams ...         722   \n",
       "2  A bill that passed the General Assembly with b...         880   \n",
       "3  Finn Vigeland offers us a refreshing snack of ...         658   \n",
       "4  There are few things Americans can agree on th...           0   \n",
       "\n",
       "                                             web_url  \n",
       "0  https://www.nytimes.com/interactive/2021/05/31...  \n",
       "1  https://www.nytimes.com/interactive/2021/05/31...  \n",
       "2  https://www.nytimes.com/interactive/2021/05/31...  \n",
       "3  https://www.nytimes.com/interactive/2021/05/31...  \n",
       "4  https://www.nytimes.com/interactive/2021/05/31...  "
      ]
     },
     "execution_count": 63,
     "metadata": {},
     "output_type": "execute_result"
    }
   ],
   "source": [
    "df = pd.DataFrame(data)\n",
    "df.head()"
   ]
  },
  {
   "cell_type": "markdown",
   "metadata": {},
   "source": [
    "Need to add headline, keywords, person. Need to check subsection_name"
   ]
  }
 ],
 "metadata": {
  "kernelspec": {
   "display_name": "Python 3",
   "language": "python",
   "name": "python3"
  },
  "language_info": {
   "codemirror_mode": {
    "name": "ipython",
    "version": 3
   },
   "file_extension": ".py",
   "mimetype": "text/x-python",
   "name": "python",
   "nbconvert_exporter": "python",
   "pygments_lexer": "ipython3",
   "version": "3.8.3"
  }
 },
 "nbformat": 4,
 "nbformat_minor": 4
}
