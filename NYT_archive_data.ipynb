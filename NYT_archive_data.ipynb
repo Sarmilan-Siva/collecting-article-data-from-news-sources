{
 "cells": [
  {
   "cell_type": "markdown",
   "metadata": {},
   "source": [
    "# Collecting Article Data from New York Time's Archive"
   ]
  },
  {
   "cell_type": "markdown",
   "metadata": {},
   "source": [
    "Over 150 years of NYT articles can be collected from the Archive API. This notebook extracts some useful information for some analysis for a period of time."
   ]
  },
  {
   "cell_type": "markdown",
   "metadata": {},
   "source": [
    "#### Importing necessary libraries"
   ]
  },
  {
   "cell_type": "code",
   "execution_count": 1,
   "metadata": {},
   "outputs": [],
   "source": [
    "import pandas as pd\n",
    "import numpy as np\n",
    "import json\n",
    "import configparser\n",
    "import requests\n",
    "import time\n",
    "import os"
   ]
  },
  {
   "cell_type": "markdown",
   "metadata": {},
   "source": [
    "#### Reading the API key from Configparser"
   ]
  },
  {
   "cell_type": "code",
   "execution_count": 2,
   "metadata": {},
   "outputs": [],
   "source": [
    "configs = configparser.ConfigParser()\n",
    "configs.read('News_API.ini')\n",
    "API_KEY = configs['news_API']['nytimes_archive']"
   ]
  },
  {
   "cell_type": "markdown",
   "metadata": {},
   "source": [
    "#### Simple Data Extractor\n",
    "\n",
    "The NYT allows to extract one month of archive data in one call and the data is in JSON file format. A simple function is created to extract one JSON file contains one month of articles."
   ]
  },
  {
   "cell_type": "code",
   "execution_count": 3,
   "metadata": {},
   "outputs": [],
   "source": [
    "def send_request(yr, month, api_key):\n",
    "  '''Sends a request to the NYT Archive API for a given year and month, and receive the response'''\n",
    "    \n",
    "  base_url = 'https://api.nytimes.com/svc/archive/v1'\n",
    "  full_url = base_url + '/' + yr + '/' + month + '.json?api-key=' + api_key\n",
    "    \n",
    "  try:\n",
    "    response = requests.get(full_url).json()\n",
    "  except Exception:\n",
    "    return None\n",
    "  return response"
   ]
  },
  {
   "cell_type": "markdown",
   "metadata": {},
   "source": [
    "Sample output of `send_request()` function."
   ]
  },
  {
   "cell_type": "code",
   "execution_count": 4,
   "metadata": {},
   "outputs": [
    {
     "data": {
      "text/plain": [
       "4260"
      ]
     },
     "execution_count": 4,
     "metadata": {},
     "output_type": "execute_result"
    }
   ],
   "source": [
    "nyt_articles = send_request(str(2021), str(6), API_KEY)\n",
    "len(nyt_articles['response']['docs'])"
   ]
  },
  {
   "cell_type": "markdown",
   "metadata": {},
   "source": [
    "Information about 4260 articles comprised in the June 2021 archive. First dictionary item is printed to see what data is available for further extraction and analysis."
   ]
  },
  {
   "cell_type": "code",
   "execution_count": 5,
   "metadata": {},
   "outputs": [
    {
     "data": {
      "text/plain": [
       "{'abstract': 'When your therapist is a bot, you can reach it at 2 a.m. But will it really understand your problems?',\n",
       " 'web_url': 'https://www.nytimes.com/2021/06/01/health/artificial-intelligence-therapy-woebot.html',\n",
       " 'snippet': 'When your therapist is a bot, you can reach it at 2 a.m. But will it really understand your problems?',\n",
       " 'lead_paragraph': '“I understand that you’re experiencing a relationship problem, is that right?”',\n",
       " 'print_section': 'D',\n",
       " 'print_page': '1',\n",
       " 'source': 'The New York Times',\n",
       " 'multimedia': [{'rank': 0,\n",
       "   'subtype': 'xlarge',\n",
       "   'caption': None,\n",
       "   'credit': None,\n",
       "   'type': 'image',\n",
       "   'url': 'images/2021/06/01/science/01SCI-WOEBOT/01SCI-WOEBOT-articleLarge.jpg',\n",
       "   'height': 548,\n",
       "   'width': 600,\n",
       "   'subType': 'xlarge',\n",
       "   'crop_name': 'articleLarge',\n",
       "   'legacy': {'xlarge': 'images/2021/06/01/science/01SCI-WOEBOT/01SCI-WOEBOT-articleLarge.jpg',\n",
       "    'xlargewidth': 600,\n",
       "    'xlargeheight': 548}},\n",
       "  {'rank': 0,\n",
       "   'subtype': 'jumbo',\n",
       "   'caption': None,\n",
       "   'credit': None,\n",
       "   'type': 'image',\n",
       "   'url': 'images/2021/06/01/science/01SCI-WOEBOT/01SCI-WOEBOT-jumbo.jpg',\n",
       "   'height': 935,\n",
       "   'width': 1024,\n",
       "   'subType': 'jumbo',\n",
       "   'crop_name': 'jumbo',\n",
       "   'legacy': {}},\n",
       "  {'rank': 0,\n",
       "   'subtype': 'superJumbo',\n",
       "   'caption': None,\n",
       "   'credit': None,\n",
       "   'type': 'image',\n",
       "   'url': 'images/2021/06/01/science/01SCI-WOEBOT/01SCI-WOEBOT-superJumbo.jpg',\n",
       "   'height': 1870,\n",
       "   'width': 2048,\n",
       "   'subType': 'superJumbo',\n",
       "   'crop_name': 'superJumbo',\n",
       "   'legacy': {}},\n",
       "  {'rank': 0,\n",
       "   'subtype': 'thumbnail',\n",
       "   'caption': None,\n",
       "   'credit': None,\n",
       "   'type': 'image',\n",
       "   'url': 'images/2021/06/01/science/01SCI-WOEBOT/01SCI-WOEBOT-thumbStandard.jpg',\n",
       "   'height': 75,\n",
       "   'width': 75,\n",
       "   'subType': 'thumbnail',\n",
       "   'crop_name': 'thumbStandard',\n",
       "   'legacy': {'thumbnail': 'images/2021/06/01/science/01SCI-WOEBOT/01SCI-WOEBOT-thumbStandard.jpg',\n",
       "    'thumbnailwidth': 75,\n",
       "    'thumbnailheight': 75}},\n",
       "  {'rank': 0,\n",
       "   'subtype': 'thumbLarge',\n",
       "   'caption': None,\n",
       "   'credit': None,\n",
       "   'type': 'image',\n",
       "   'url': 'images/2021/06/01/science/01SCI-WOEBOT/01SCI-WOEBOT-thumbLarge.jpg',\n",
       "   'height': 150,\n",
       "   'width': 150,\n",
       "   'subType': 'thumbLarge',\n",
       "   'crop_name': 'thumbLarge',\n",
       "   'legacy': {}}],\n",
       " 'headline': {'main': 'Something Bothering You? Tell It to Woebot.',\n",
       "  'kicker': None,\n",
       "  'content_kicker': None,\n",
       "  'print_headline': 'Tell It to Woebot',\n",
       "  'name': None,\n",
       "  'seo': None,\n",
       "  'sub': None},\n",
       " 'keywords': [{'name': 'subject',\n",
       "   'value': 'Therapy and Rehabilitation',\n",
       "   'rank': 1,\n",
       "   'major': 'N'},\n",
       "  {'name': 'subject', 'value': 'Anxiety and Stress', 'rank': 2, 'major': 'N'},\n",
       "  {'name': 'subject',\n",
       "   'value': 'Mental Health and Disorders',\n",
       "   'rank': 3,\n",
       "   'major': 'N'},\n",
       "  {'name': 'subject',\n",
       "   'value': 'Psychology and Psychologists',\n",
       "   'rank': 4,\n",
       "   'major': 'N'},\n",
       "  {'name': 'subject',\n",
       "   'value': 'Artificial Intelligence',\n",
       "   'rank': 5,\n",
       "   'major': 'N'},\n",
       "  {'name': 'subject', 'value': 'Mobile Applications', 'rank': 6, 'major': 'N'},\n",
       "  {'name': 'subject', 'value': 'Depression (Mental)', 'rank': 7, 'major': 'N'},\n",
       "  {'name': 'subject',\n",
       "   'value': 'Psychiatry and Psychiatrists',\n",
       "   'rank': 8,\n",
       "   'major': 'N'},\n",
       "  {'name': 'organizations', 'value': 'Woebot Labs', 'rank': 9, 'major': 'N'},\n",
       "  {'name': 'persons',\n",
       "   'value': 'Darcy, Alison (Psychologist)',\n",
       "   'rank': 10,\n",
       "   'major': 'N'}],\n",
       " 'pub_date': '2021-06-01T06:00:11+0000',\n",
       " 'document_type': 'article',\n",
       " 'news_desk': 'Science',\n",
       " 'section_name': 'Health',\n",
       " 'byline': {'original': 'By Karen Brown',\n",
       "  'person': [{'firstname': 'Karen',\n",
       "    'middlename': None,\n",
       "    'lastname': 'Brown',\n",
       "    'qualifier': None,\n",
       "    'title': None,\n",
       "    'role': 'reported',\n",
       "    'organization': '',\n",
       "    'rank': 1}],\n",
       "  'organization': None},\n",
       " 'type_of_material': 'News',\n",
       " '_id': 'nyt://article/d8555368-5adf-5d85-b8ab-9560a7e241e1',\n",
       " 'word_count': 2390,\n",
       " 'uri': 'nyt://article/d8555368-5adf-5d85-b8ab-9560a7e241e1'}"
      ]
     },
     "execution_count": 5,
     "metadata": {},
     "output_type": "execute_result"
    }
   ],
   "source": [
    "nyt_articles['response']['docs'][10]"
   ]
  },
  {
   "cell_type": "markdown",
   "metadata": {},
   "source": [
    "### Extracting Useful Information From the Data Dictionary\n",
    "\n",
    "Extracting following information from the API response:\n",
    "*pub_date, document_type, news_desk, section_name, subsection_name, abstract, headline,* full name of the *writer,* some *keywords, word_count* and *web_url*"
   ]
  },
  {
   "cell_type": "code",
   "execution_count": 6,
   "metadata": {},
   "outputs": [],
   "source": [
    "def manage_missing_fields(doc_field, article):\n",
    "  ''' some fields are not available in some dictionaries; making sure those fields are available otherwise assign nan '''\n",
    "  if doc_field in article:\n",
    "    value = article[doc_field]\n",
    "  else:\n",
    "    value = np.nan\n",
    "  return value"
   ]
  },
  {
   "cell_type": "code",
   "execution_count": 7,
   "metadata": {},
   "outputs": [],
   "source": [
    "def is_main(article):\n",
    "  ''' making sure the headline has main in it '''\n",
    "  is_true = type(article['headline']) == dict and 'main' in article['headline'].keys()\n",
    "\n",
    "  return is_true"
   ]
  },
  {
   "cell_type": "code",
   "execution_count": 8,
   "metadata": {},
   "outputs": [],
   "source": [
    "def extracting_headline(article):\n",
    "  ''' extracting main of the headline if it is available '''\n",
    "  if is_main(article):\n",
    "    value = article['headline']['main']\n",
    "  else:\n",
    "    value = np.nan\n",
    "  return value"
   ]
  },
  {
   "cell_type": "code",
   "execution_count": 9,
   "metadata": {},
   "outputs": [],
   "source": [
    "def writer_name(article):\n",
    "  ''' checking whether the writer name is there and return it in First Name, Middle Name, Last Name format'''\n",
    "  writer_detail = article['byline']['person'] \n",
    "  is_true = len(writer_detail) > 0 and type(writer_detail[0]) == dict and 'firstname' in writer_detail[0].keys()\n",
    "\n",
    "  if is_true:\n",
    "    firstname = writer_detail[0]['firstname']\n",
    "    lastname = writer_detail[0]['lastname']\n",
    "    middlename = writer_detail[0]['middlename']\n",
    "\n",
    "    FullName = firstname + (\" \" + middlename if middlename else \"\") + \" \" + lastname\n",
    "\n",
    "  else:\n",
    "    FullName = None\n",
    "\n",
    "  return FullName"
   ]
  },
  {
   "cell_type": "code",
   "execution_count": 10,
   "metadata": {},
   "outputs": [],
   "source": [
    "def keyword_parser(keyword_type, article):\n",
    "  ''' extracts keywords based on its type in a list'''\n",
    "  kw_list = [keyword['value'] for keyword in article['keywords'] if keyword['name'] == keyword_type]\n",
    "  return kw_list"
   ]
  },
  {
   "cell_type": "markdown",
   "metadata": {},
   "source": [
    "Extracting all useful information from the API response and store it in a tabular table"
   ]
  },
  {
   "cell_type": "code",
   "execution_count": 11,
   "metadata": {},
   "outputs": [],
   "source": [
    "def article_parser(nyt_articles):\n",
    "  ''' parsing interested fields from NYT's archive response and return a tabular DataFrame '''\n",
    "  \n",
    "  # defining empty fields\n",
    "  data = {'pub_date': [],\n",
    "          'document_type':[],\n",
    "          'news_desk':[],\n",
    "          'section_name': [], 'subsection_name':[],\n",
    "          'abstract': [], 'headline': [],\n",
    "          'writer': [],\n",
    "          'key_subject': [], 'key_glocations': [], 'key_persons': [], 'key_organizations': [], \n",
    "          'word_count':[],\n",
    "          'web_url': []}\n",
    "\n",
    "  articles = nyt_articles['response']['docs']\n",
    "\n",
    "  for article in articles:\n",
    "    data['abstract'].append(article['abstract'])\n",
    "    data['headline'].append(extracting_headline(article))\n",
    "    data['writer'].append(writer_name(article))\n",
    "    data['document_type'].append(article['document_type'])\n",
    "    data['news_desk'].append(article['news_desk'])\n",
    "    data['key_subject'].append(keyword_parser('subject', article))\n",
    "    data['key_glocations'].append(keyword_parser('glocations', article))\n",
    "    data['key_persons'].append(keyword_parser('persons', article))\n",
    "    data['key_organizations'].append(keyword_parser('organizations', article))\n",
    "    data['section_name'].append(article['section_name'])\n",
    "    data['subsection_name'].append(manage_missing_fields('subsection_name', article))\n",
    "    data['pub_date'].append(pd.to_datetime(article['pub_date'], format='%Y%m%d %H:%M:%S.%f').date())\n",
    "    data['web_url'].append(article['web_url'])\n",
    "    data['word_count'].append(article['word_count'])\n",
    "    \n",
    "  df = pd.DataFrame(data)\n",
    "  print('{} articles successfully parsed to the table'.format(len(articles)))\n",
    "  \n",
    "  return df"
   ]
  },
  {
   "cell_type": "markdown",
   "metadata": {},
   "source": [
    "Viewing the sample table output"
   ]
  },
  {
   "cell_type": "code",
   "execution_count": 12,
   "metadata": {},
   "outputs": [
    {
     "name": "stdout",
     "output_type": "stream",
     "text": [
      "4260 articles successfully parsed to the table\n"
     ]
    },
    {
     "data": {
      "text/html": [
       "<div>\n",
       "<style scoped>\n",
       "    .dataframe tbody tr th:only-of-type {\n",
       "        vertical-align: middle;\n",
       "    }\n",
       "\n",
       "    .dataframe tbody tr th {\n",
       "        vertical-align: top;\n",
       "    }\n",
       "\n",
       "    .dataframe thead th {\n",
       "        text-align: right;\n",
       "    }\n",
       "</style>\n",
       "<table border=\"1\" class=\"dataframe\">\n",
       "  <thead>\n",
       "    <tr style=\"text-align: right;\">\n",
       "      <th></th>\n",
       "      <th>pub_date</th>\n",
       "      <th>document_type</th>\n",
       "      <th>news_desk</th>\n",
       "      <th>section_name</th>\n",
       "      <th>subsection_name</th>\n",
       "      <th>abstract</th>\n",
       "      <th>headline</th>\n",
       "      <th>writer</th>\n",
       "      <th>key_subject</th>\n",
       "      <th>key_glocations</th>\n",
       "      <th>key_persons</th>\n",
       "      <th>key_organizations</th>\n",
       "      <th>word_count</th>\n",
       "      <th>web_url</th>\n",
       "    </tr>\n",
       "  </thead>\n",
       "  <tbody>\n",
       "    <tr>\n",
       "      <th>0</th>\n",
       "      <td>2021-06-01</td>\n",
       "      <td>article</td>\n",
       "      <td>Foreign</td>\n",
       "      <td>World</td>\n",
       "      <td>Middle East</td>\n",
       "      <td>In Israel’s newspapers — as fractured as its e...</td>\n",
       "      <td>Glum to Gleeful, Israeli Media React to Possib...</td>\n",
       "      <td>Adam Rasgon</td>\n",
       "      <td>[]</td>\n",
       "      <td>[Israel]</td>\n",
       "      <td>[Bennett, Naftali, Netanyahu, Benjamin]</td>\n",
       "      <td>[Haaretz, Israel Hayom, Maariv, Yediot Aharono...</td>\n",
       "      <td>984</td>\n",
       "      <td>https://www.nytimes.com/2021/05/31/world/middl...</td>\n",
       "    </tr>\n",
       "    <tr>\n",
       "      <th>1</th>\n",
       "      <td>2021-06-01</td>\n",
       "      <td>article</td>\n",
       "      <td>Sports</td>\n",
       "      <td>Sports</td>\n",
       "      <td>Tennis</td>\n",
       "      <td>Playing in a night session in Paris, Williams ...</td>\n",
       "      <td>Serena Williams Wins in the First Round at the...</td>\n",
       "      <td>Ben Rothenberg</td>\n",
       "      <td>[French Open (Tennis), Tennis]</td>\n",
       "      <td>[]</td>\n",
       "      <td>[Begu, Irina-Camelia, Williams, Serena]</td>\n",
       "      <td>[]</td>\n",
       "      <td>722</td>\n",
       "      <td>https://www.nytimes.com/2021/05/31/sports/tenn...</td>\n",
       "    </tr>\n",
       "    <tr>\n",
       "      <th>2</th>\n",
       "      <td>2021-06-01</td>\n",
       "      <td>article</td>\n",
       "      <td>Express</td>\n",
       "      <td>U.S.</td>\n",
       "      <td>NaN</td>\n",
       "      <td>A bill that passed the General Assembly with b...</td>\n",
       "      <td>Illinois Lawmakers Bar Police From Using Decep...</td>\n",
       "      <td>Michael Levenson</td>\n",
       "      <td>[Confessions, State Legislatures, False Arrest...</td>\n",
       "      <td>[Chicago (Ill), Illinois]</td>\n",
       "      <td>[Dassey, Brendan, Durkin, Jim, Foxx, Kim]</td>\n",
       "      <td>[Innocence Project, Police Department (Chicago...</td>\n",
       "      <td>880</td>\n",
       "      <td>https://www.nytimes.com/2021/05/31/us/Chicago-...</td>\n",
       "    </tr>\n",
       "    <tr>\n",
       "      <th>3</th>\n",
       "      <td>2021-06-01</td>\n",
       "      <td>article</td>\n",
       "      <td>Games</td>\n",
       "      <td>Crosswords &amp; Games</td>\n",
       "      <td>NaN</td>\n",
       "      <td>Finn Vigeland offers us a refreshing snack of ...</td>\n",
       "      <td>With the Candlestick in the Study</td>\n",
       "      <td>Deb Amlen</td>\n",
       "      <td>[Crossword Puzzles]</td>\n",
       "      <td>[]</td>\n",
       "      <td>[]</td>\n",
       "      <td>[]</td>\n",
       "      <td>658</td>\n",
       "      <td>https://www.nytimes.com/2021/05/31/crosswords/...</td>\n",
       "    </tr>\n",
       "    <tr>\n",
       "      <th>4</th>\n",
       "      <td>2021-06-01</td>\n",
       "      <td>multimedia</td>\n",
       "      <td>Climate</td>\n",
       "      <td>Climate</td>\n",
       "      <td>NaN</td>\n",
       "      <td>There are few things Americans can agree on th...</td>\n",
       "      <td>How Do Animals Safely Cross a Highway? Take a ...</td>\n",
       "      <td>Catrin Einhorn</td>\n",
       "      <td>[ANIMALS, Animal Migration, Roads and Traffic,...</td>\n",
       "      <td>[United States, California, Florida, Montana, ...</td>\n",
       "      <td>[]</td>\n",
       "      <td>[]</td>\n",
       "      <td>0</td>\n",
       "      <td>https://www.nytimes.com/interactive/2021/05/31...</td>\n",
       "    </tr>\n",
       "  </tbody>\n",
       "</table>\n",
       "</div>"
      ],
      "text/plain": [
       "     pub_date document_type news_desk        section_name subsection_name  \\\n",
       "0  2021-06-01       article   Foreign               World     Middle East   \n",
       "1  2021-06-01       article    Sports              Sports          Tennis   \n",
       "2  2021-06-01       article   Express                U.S.             NaN   \n",
       "3  2021-06-01       article     Games  Crosswords & Games             NaN   \n",
       "4  2021-06-01    multimedia   Climate             Climate             NaN   \n",
       "\n",
       "                                            abstract  \\\n",
       "0  In Israel’s newspapers — as fractured as its e...   \n",
       "1  Playing in a night session in Paris, Williams ...   \n",
       "2  A bill that passed the General Assembly with b...   \n",
       "3  Finn Vigeland offers us a refreshing snack of ...   \n",
       "4  There are few things Americans can agree on th...   \n",
       "\n",
       "                                            headline            writer  \\\n",
       "0  Glum to Gleeful, Israeli Media React to Possib...       Adam Rasgon   \n",
       "1  Serena Williams Wins in the First Round at the...    Ben Rothenberg   \n",
       "2  Illinois Lawmakers Bar Police From Using Decep...  Michael Levenson   \n",
       "3                  With the Candlestick in the Study         Deb Amlen   \n",
       "4  How Do Animals Safely Cross a Highway? Take a ...    Catrin Einhorn   \n",
       "\n",
       "                                         key_subject  \\\n",
       "0                                                 []   \n",
       "1                     [French Open (Tennis), Tennis]   \n",
       "2  [Confessions, State Legislatures, False Arrest...   \n",
       "3                                [Crossword Puzzles]   \n",
       "4  [ANIMALS, Animal Migration, Roads and Traffic,...   \n",
       "\n",
       "                                      key_glocations  \\\n",
       "0                                           [Israel]   \n",
       "1                                                 []   \n",
       "2                          [Chicago (Ill), Illinois]   \n",
       "3                                                 []   \n",
       "4  [United States, California, Florida, Montana, ...   \n",
       "\n",
       "                                 key_persons  \\\n",
       "0    [Bennett, Naftali, Netanyahu, Benjamin]   \n",
       "1    [Begu, Irina-Camelia, Williams, Serena]   \n",
       "2  [Dassey, Brendan, Durkin, Jim, Foxx, Kim]   \n",
       "3                                         []   \n",
       "4                                         []   \n",
       "\n",
       "                                   key_organizations  word_count  \\\n",
       "0  [Haaretz, Israel Hayom, Maariv, Yediot Aharono...         984   \n",
       "1                                                 []         722   \n",
       "2  [Innocence Project, Police Department (Chicago...         880   \n",
       "3                                                 []         658   \n",
       "4                                                 []           0   \n",
       "\n",
       "                                             web_url  \n",
       "0  https://www.nytimes.com/2021/05/31/world/middl...  \n",
       "1  https://www.nytimes.com/2021/05/31/sports/tenn...  \n",
       "2  https://www.nytimes.com/2021/05/31/us/Chicago-...  \n",
       "3  https://www.nytimes.com/2021/05/31/crosswords/...  \n",
       "4  https://www.nytimes.com/interactive/2021/05/31...  "
      ]
     },
     "execution_count": 12,
     "metadata": {},
     "output_type": "execute_result"
    }
   ],
   "source": [
    "df = article_parser(nyt_articles)\n",
    "df.head()"
   ]
  },
  {
   "cell_type": "markdown",
   "metadata": {},
   "source": [
    "### Extracting Articles for a Period of Time\n",
    "\n",
    "Building functions to parse article information for a period of time. NYT archive contains articles since 1850 for public access."
   ]
  },
  {
   "cell_type": "code",
   "execution_count": 13,
   "metadata": {},
   "outputs": [],
   "source": [
    "def get_articles(start_date, end_date, api_key, file_path):\n",
    "  ''' request and receive articles for a date range and save them in a directory as .csv file '''\n",
    "  \n",
    "  # create file path\n",
    "  if not os.path.exists(file_path):\n",
    "    os.mkdir(file_path)\n",
    "  \n",
    "  # create possible Year - Month combinations\n",
    "  ym_list = pd.date_range(start_date, end_date, freq='MS').strftime(\"%Y-%m\").tolist()\n",
    "  \n",
    "  # make API calls for all year, month within the range interested\n",
    "  for ym in ym_list:\n",
    "    ym_spl = ym.split('-')\n",
    "    \n",
    "    csv_name = 'nyt_arc' + str(ym_spl[0]) + '-' + str(ym_spl[1]) + '.csv'\n",
    "    csv_path = file_path + '/' + csv_name\n",
    "    if os.path.exists(csv_path):\n",
    "      print(csv_name + ' already exists \\n')      \n",
    "      \n",
    "    else:\n",
    "      nyt_articles = send_request(str(ym_spl[0]), str(int(ym_spl[1])), api_key)\n",
    "      \n",
    "      if nyt_articles is not None:\n",
    "        df_article = article_parser(nyt_articles)\n",
    "        \n",
    "        df_article.to_csv(csv_path, index=False)\n",
    "        time.sleep(5)\n",
    "        print('Saving ' + csv_name + '\\n')\n",
    "        \n",
    "  print('---- Completing parsing the articles ----')"
   ]
  },
  {
   "cell_type": "markdown",
   "metadata": {},
   "source": [
    "Extracting aricle information using the `get_articles()` function"
   ]
  },
  {
   "cell_type": "code",
   "execution_count": 14,
   "metadata": {},
   "outputs": [
    {
     "name": "stdout",
     "output_type": "stream",
     "text": [
      "4883 articles successfully parsed to the table\n",
      "Saving nyt_arc2020-03.csv\n",
      "\n",
      "5019 articles successfully parsed to the table\n",
      "Saving nyt_arc2020-04.csv\n",
      "\n",
      "---- Completing parsing the articles ----\n"
     ]
    }
   ],
   "source": [
    "get_articles('2020-03-01', '2020-04-15', API_KEY, file_path = 'NYT_Archive_data')"
   ]
  }
 ],
 "metadata": {
  "kernelspec": {
   "display_name": "Python 3",
   "language": "python",
   "name": "python3"
  },
  "language_info": {
   "codemirror_mode": {
    "name": "ipython",
    "version": 3
   },
   "file_extension": ".py",
   "mimetype": "text/x-python",
   "name": "python",
   "nbconvert_exporter": "python",
   "pygments_lexer": "ipython3",
   "version": "3.8.3"
  }
 },
 "nbformat": 4,
 "nbformat_minor": 4
}
