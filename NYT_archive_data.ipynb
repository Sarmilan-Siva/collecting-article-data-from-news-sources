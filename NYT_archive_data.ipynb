{
 "cells": [
  {
   "cell_type": "markdown",
   "metadata": {},
   "source": [
    "# Collecting Article Data from New York Time's Archive"
   ]
  },
  {
   "cell_type": "markdown",
   "metadata": {},
   "source": [
    "Over 150 years of NYT articles can be collected from the Archive API. This notebook extracts some useful information for some analysis for a period of time."
   ]
  },
  {
   "cell_type": "markdown",
   "metadata": {},
   "source": [
    "#### Importing necessary libraries"
   ]
  },
  {
   "cell_type": "code",
   "execution_count": 1,
   "metadata": {},
   "outputs": [],
   "source": [
    "import pandas as pd\n",
    "import json\n",
    "import configparser\n",
    "import requests\n",
    "import time"
   ]
  },
  {
   "cell_type": "markdown",
   "metadata": {},
   "source": [
    "#### Reading the API key from Configparser"
   ]
  },
  {
   "cell_type": "code",
   "execution_count": 2,
   "metadata": {},
   "outputs": [],
   "source": [
    "configs = configparser.ConfigParser()\n",
    "configs.read('News_API.ini')\n",
    "API_KEY = configs['news_API']['nytimes_archive']"
   ]
  },
  {
   "cell_type": "markdown",
   "metadata": {},
   "source": [
    "#### Simple Data Extractor\n",
    "\n",
    "The NYT allows to extract one month of archive data in one call and the data is in JSON file format. A simple function is created to extract one JSON file contains one month of articles."
   ]
  },
  {
   "cell_type": "code",
   "execution_count": 3,
   "metadata": {},
   "outputs": [],
   "source": [
    "def send_request(yr, month, api_key):\n",
    "  '''Sends a request to the NYT Archive API for a given year and month, and receive the response'''\n",
    "    \n",
    "  base_url = 'https://api.nytimes.com/svc/archive/v1'\n",
    "  full_url = base_url + '/' + yr + '/' + month + '.json?api-key=' + api_key\n",
    "    \n",
    "  try:\n",
    "    response = requests.get(full_url).json()\n",
    "  except Exception:\n",
    "    return None\n",
    "  time.sleep(6)\n",
    "  return response"
   ]
  },
  {
   "cell_type": "markdown",
   "metadata": {},
   "source": [
    "Sample output of `send_request()` function."
   ]
  },
  {
   "cell_type": "code",
   "execution_count": 4,
   "metadata": {},
   "outputs": [
    {
     "data": {
      "text/plain": [
       "4260"
      ]
     },
     "execution_count": 4,
     "metadata": {},
     "output_type": "execute_result"
    }
   ],
   "source": [
    "nyt_articles = send_request(str(2021), str(6), API_KEY)\n",
    "len(nyt_articles['response']['docs'])"
   ]
  },
  {
   "cell_type": "markdown",
   "metadata": {},
   "source": [
    "Information about 4260 articles comprised in the June 2021 archive. First dictionary item is printed to see what data is available for further extraction and analysis."
   ]
  },
  {
   "cell_type": "code",
   "execution_count": 5,
   "metadata": {},
   "outputs": [
    {
     "data": {
      "text/plain": [
       "{'abstract': 'In Israel’s newspapers — as fractured as its electorate — the opinions on the possible fall of Prime Minister Benjamin Netanyahu were as emphatic as they were varied.',\n",
       " 'web_url': 'https://www.nytimes.com/2021/05/31/world/middleeast/israeli-media-netanyahu-bennett.html',\n",
       " 'snippet': 'In Israel’s newspapers — as fractured as its electorate — the opinions on the possible fall of Prime Minister Benjamin Netanyahu were as emphatic as they were varied.',\n",
       " 'lead_paragraph': 'After more than 12 consecutive years at the helm of Israel’s government, Prime Minister Benjamin Netanyahu’s hold on power may be coming to a close.',\n",
       " 'source': 'The New York Times',\n",
       " 'multimedia': [{'rank': 0,\n",
       "   'subtype': 'xlarge',\n",
       "   'caption': None,\n",
       "   'credit': None,\n",
       "   'type': 'image',\n",
       "   'url': 'images/2021/05/31/world/31israel-reaction/merlin_188519604_9d0ecaa9-cca2-4523-ae7c-63df787502c5-articleLarge.jpg',\n",
       "   'height': 400,\n",
       "   'width': 600,\n",
       "   'subType': 'xlarge',\n",
       "   'crop_name': 'articleLarge',\n",
       "   'legacy': {'xlarge': 'images/2021/05/31/world/31israel-reaction/merlin_188519604_9d0ecaa9-cca2-4523-ae7c-63df787502c5-articleLarge.jpg',\n",
       "    'xlargewidth': 600,\n",
       "    'xlargeheight': 400}},\n",
       "  {'rank': 0,\n",
       "   'subtype': 'jumbo',\n",
       "   'caption': None,\n",
       "   'credit': None,\n",
       "   'type': 'image',\n",
       "   'url': 'images/2021/05/31/world/31israel-reaction/merlin_188519604_9d0ecaa9-cca2-4523-ae7c-63df787502c5-jumbo.jpg',\n",
       "   'height': 683,\n",
       "   'width': 1024,\n",
       "   'subType': 'jumbo',\n",
       "   'crop_name': 'jumbo',\n",
       "   'legacy': {}},\n",
       "  {'rank': 0,\n",
       "   'subtype': 'superJumbo',\n",
       "   'caption': None,\n",
       "   'credit': None,\n",
       "   'type': 'image',\n",
       "   'url': 'images/2021/05/31/world/31israel-reaction/merlin_188519604_9d0ecaa9-cca2-4523-ae7c-63df787502c5-superJumbo.jpg',\n",
       "   'height': 1366,\n",
       "   'width': 2048,\n",
       "   'subType': 'superJumbo',\n",
       "   'crop_name': 'superJumbo',\n",
       "   'legacy': {}},\n",
       "  {'rank': 0,\n",
       "   'subtype': 'thumbnail',\n",
       "   'caption': None,\n",
       "   'credit': None,\n",
       "   'type': 'image',\n",
       "   'url': 'images/2021/05/31/world/31israel-reaction/31israel-reaction-thumbStandard.jpg',\n",
       "   'height': 75,\n",
       "   'width': 75,\n",
       "   'subType': 'thumbnail',\n",
       "   'crop_name': 'thumbStandard',\n",
       "   'legacy': {'thumbnail': 'images/2021/05/31/world/31israel-reaction/31israel-reaction-thumbStandard.jpg',\n",
       "    'thumbnailwidth': 75,\n",
       "    'thumbnailheight': 75}},\n",
       "  {'rank': 0,\n",
       "   'subtype': 'thumbLarge',\n",
       "   'caption': None,\n",
       "   'credit': None,\n",
       "   'type': 'image',\n",
       "   'url': 'images/2021/05/31/world/31israel-reaction/31israel-reaction-thumbLarge.jpg',\n",
       "   'height': 150,\n",
       "   'width': 150,\n",
       "   'subType': 'thumbLarge',\n",
       "   'crop_name': 'thumbLarge',\n",
       "   'legacy': {}}],\n",
       " 'headline': {'main': 'Glum to Gleeful, Israeli Media React to Possible End of Netanyahu Era',\n",
       "  'kicker': None,\n",
       "  'content_kicker': None,\n",
       "  'print_headline': 'Glum to Gleeful, Israeli Media React',\n",
       "  'name': None,\n",
       "  'seo': None,\n",
       "  'sub': None},\n",
       " 'keywords': [{'name': 'glocations',\n",
       "   'value': 'Israel',\n",
       "   'rank': 1,\n",
       "   'major': 'N'},\n",
       "  {'name': 'persons', 'value': 'Bennett, Naftali', 'rank': 2, 'major': 'N'},\n",
       "  {'name': 'persons', 'value': 'Netanyahu, Benjamin', 'rank': 3, 'major': 'N'},\n",
       "  {'name': 'organizations', 'value': 'Haaretz', 'rank': 4, 'major': 'N'},\n",
       "  {'name': 'organizations', 'value': 'Israel Hayom', 'rank': 5, 'major': 'N'},\n",
       "  {'name': 'organizations', 'value': 'Maariv', 'rank': 6, 'major': 'N'},\n",
       "  {'name': 'organizations',\n",
       "   'value': 'Yediot Aharonot',\n",
       "   'rank': 7,\n",
       "   'major': 'N'},\n",
       "  {'name': 'organizations', 'value': 'Makor Rishon', 'rank': 8, 'major': 'N'}],\n",
       " 'pub_date': '2021-06-01T00:06:19+0000',\n",
       " 'document_type': 'article',\n",
       " 'news_desk': 'Foreign',\n",
       " 'section_name': 'World',\n",
       " 'subsection_name': 'Middle East',\n",
       " 'byline': {'original': 'By Adam Rasgon',\n",
       "  'person': [{'firstname': 'Adam',\n",
       "    'middlename': None,\n",
       "    'lastname': 'Rasgon',\n",
       "    'qualifier': None,\n",
       "    'title': None,\n",
       "    'role': 'reported',\n",
       "    'organization': '',\n",
       "    'rank': 1}],\n",
       "  'organization': None},\n",
       " 'type_of_material': 'News',\n",
       " '_id': 'nyt://article/987bb5b3-1c18-5bdc-80de-fbf86da686b9',\n",
       " 'word_count': 984,\n",
       " 'uri': 'nyt://article/987bb5b3-1c18-5bdc-80de-fbf86da686b9'}"
      ]
     },
     "execution_count": 5,
     "metadata": {},
     "output_type": "execute_result"
    }
   ],
   "source": [
    "nyt_articles['response']['docs'][0]"
   ]
  },
  {
   "cell_type": "code",
   "execution_count": null,
   "metadata": {},
   "outputs": [],
   "source": []
  }
 ],
 "metadata": {
  "kernelspec": {
   "display_name": "Python 3",
   "language": "python",
   "name": "python3"
  },
  "language_info": {
   "codemirror_mode": {
    "name": "ipython",
    "version": 3
   },
   "file_extension": ".py",
   "mimetype": "text/x-python",
   "name": "python",
   "nbconvert_exporter": "python",
   "pygments_lexer": "ipython3",
   "version": "3.8.3"
  }
 },
 "nbformat": 4,
 "nbformat_minor": 4
}
